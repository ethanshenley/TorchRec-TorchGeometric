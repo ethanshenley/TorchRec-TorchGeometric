{
 "cells": [
  {
   "cell_type": "markdown",
   "metadata": {},
   "source": [
    "# Graph-Aware Embeddings for Recommendation Systems\n",
    "\n",
    "This notebook demonstrates how to use graph-aware embeddings to enhance recommendation systems using TorchRec and PyTorch Geometric."
   ]
  },
  {
   "cell_type": "markdown",
   "metadata": {},
   "source": [
    "## Imports and Setup"
   ]
  },
  {
   "cell_type": "code",
   "execution_count": null,
   "metadata": {},
   "outputs": [],
   "source": [
    "import torch\n",
    "import torch.nn as nn\n",
    "from torch_geometric.loader import DataLoader\n",
    "import sys\n",
    "sys.path.append('..')  # Add the parent directory to the Python path\n",
    "from src.data import GraphRecDataset, load_and_preprocess_data\n",
    "from src.models import GraphAwareEmbeddingBagCollection, GNNStack, create_ebc_config\n",
    "from src.utils import evaluate_recommendations, plot_training_curve, visualize_embeddings\n",
    "from sklearn.manifold import TSNE"
   ]
  },
  {
   "cell_type": "markdown",
   "metadata": {},
   "source": [
    "## Define Graph-Aware Recommender Model"
   ]
  },
  {
   "cell_type": "code",
   "execution_count": null,
   "metadata": {},
   "outputs": [],
   "source": [
    "class GraphAwareRecommender(nn.Module):\n",
    "    def __init__(self, num_embeddings, embedding_dim, hidden_dim, num_layers):\n",
    "        super().__init__()\n",
    "        ebc_config = create_ebc_config(num_embeddings, embedding_dim)\n",
    "        self.gnn = GNNStack(embedding_dim, hidden_dim, embedding_dim, num_layers)\n",
    "        self.graph_aware_ebc = GraphAwareEmbeddingBagCollection(ebc_config, self.gnn)\n",
    "        self.predictor = nn.Sequential(\n",
    "            nn.Linear(embedding_dim * 2, hidden_dim),\n",
    "            nn.ReLU(),\n",
    "            nn.Linear(hidden_dim, 1)\n",
    "        )\n",
    "\n",
    "    def forward(self, features, edge_index):\n",
    "        embeddings = self.graph_aware_ebc(features, edge_index)\n",
    "        user_emb = embeddings['user']\n",
    "        item_emb = embeddings['item']\n",
    "        combined = torch.cat([user_emb, item_emb], dim=1)\n",
    "        return self.predictor(combined)"
   ]
  },
  {
   "cell_type": "markdown",
   "metadata": {},
   "source": [
    "## Load and Preprocess Data"
   ]
  },
  {
   "cell_type": "code",
   "execution_count": null,
   "metadata": {},
   "outputs": [],
   "source": [
    "# Load and preprocess data\n",
    "train_interactions, test_interactions, num_users, num_items = load_and_preprocess_data('../path_to_your_data.csv')\n",
    "\n",
    "# Create datasets and data loaders\n",
    "train_dataset = GraphRecDataset(train_interactions, num_users, num_items)\n",
    "test_dataset = GraphRecDataset(test_interactions, num_users, num_items)\n",
    "train_loader = DataLoader(train_dataset, batch_size=64, shuffle=True)\n",
    "test_loader = DataLoader(test_dataset, batch_size=64, shuffle=False)"
   ]
  },
  {
   "cell_type": "markdown",
   "metadata": {},
   "source": [
    "## Initialize Model, Optimizer, and Loss Function"
   ]
  },
  {
   "cell_type": "code",
   "execution_count": null,
   "metadata": {},
   "outputs": [],
   "source": [
    "# Initialize model, optimizer, and loss function\n",
    "model = GraphAwareRecommender(num_embeddings=max(num_users, num_items), \n",
    "                              embedding_dim=64, \n",
    "                              hidden_dim=32, \n",
    "                              num_layers=2)\n",
    "optimizer = torch.optim.Adam(model.parameters(), lr=0.01)\n",
    "criterion = nn.MSELoss()\n",
    "\n",
    "device = torch.device('cuda' if torch.cuda.is_available() else 'cpu')\n",
    "model = model.to(device)"
   ]
  },
  {
   "cell_type": "markdown",
   "metadata": {},
   "source": [
    "## Training Loop"
   ]
  },
  {
   "cell_type": "code",
   "execution_count": null,
   "metadata": {},
   "outputs": [],
   "source": [
    "num_epochs = 50\n",
    "train_losses, val_losses = [], []\n",
    "\n",
    "for epoch in range(num_epochs):\n",
    "    model.train()\n",
    "    total_loss = 0\n",
    "    for batch in train_loader:\n",
    "        batch = batch.to(device)\n",
    "        optimizer.zero_grad()\n",
    "        out = model(batch.features, batch.edge_index)\n",
    "        loss = criterion(out.squeeze(), batch.y)\n",
    "        loss.backward()\n",
    "        optimizer.step()\n",
    "        total_loss += loss.item()\n",
    "    \n",
    "    train_losses.append(total_loss / len(train_loader))\n",
    "    \n",
    "    # Validation\n",
    "    model.eval()\n",
    "    val_loss = 0\n",
    "    with torch.no_grad():\n",
    "        for batch in test_loader:\n",
    "            batch = batch.to(device)\n",
    "            out = model(batch.features, batch.edge_index)\n",
    "            val_loss += criterion(out.squeeze(), batch.y).item()\n",
    "    val_losses.append(val_loss / len(test_loader))\n",
    "    \n",
    "    print(f'Epoch {epoch+1}/{num_epochs}, Train Loss: {train_losses[-1]:.4f}, Val Loss: {val_losses[-1]:.4f}')"
   ]
  },
  {
   "cell_type": "markdown",
   "metadata": {},
   "source": [
    "## Evaluate the Model"
   ]
  },
  {
   "cell_type": "code",
   "execution_count": null,
   "metadata": {},
   "outputs": [],
   "source": [
    "# Evaluate the model\n",
    "test_metrics = evaluate_recommendations(model, test_loader, device)\n",
    "print(\"Test Metrics:\", test_metrics)\n",
    "\n",
    "# Plot training curve\n",
    "plot_training_curve(train_losses, val_losses)"
   ]
  },
  {
   "cell_type": "markdown",
   "metadata": {},
   "source": [
    "## Visualize Embeddings"
   ]
  },
  {
   "cell_type": "code",
   "execution_count": null,
   "metadata": {},
   "outputs": [],
   "source": [
    "# Visualize embeddings\n",
    "model.eval()\n",
    "with torch.no_grad():\n",
    "    batch = next(iter(test_loader)).to(device)\n",
    "    embeddings = model.graph_aware_ebc(batch.features, batch.edge_index)\n",
    "    user_emb = embeddings['user'].cpu().numpy()\n",
    "    item_emb = embeddings['item'].cpu().numpy()\n",
    "\n",
    "# Use t-SNE for dimensionality reduction\n",
    "tsne = TSNE(n_components=2, random_state=42)\n",
    "user_emb_2d = tsne.fit_transform(user_emb)\n",
    "item_emb_2d = tsne.fit_transform(item_emb)\n",
    "\n",
    "# Visualize user and item embeddings\n",
    "visualize_embeddings(user_emb_2d, labels=range(len(user_emb_2d)), title=\"User Embeddings\")\n",
    "visualize_embeddings(item_emb_2d, labels=range(len(item_emb_2d)), title=\"Item Embeddings\")"
   ]
  }
 ],
 "metadata": {
  "language_info": {
   "name": "python"
  }
 },
 "nbformat": 4,
 "nbformat_minor": 2
}
