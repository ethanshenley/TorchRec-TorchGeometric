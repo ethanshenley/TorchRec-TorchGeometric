{
 "cells": [
  {
   "cell_type": "markdown",
   "metadata": {},
   "source": [
    "# Heterogeneous Graph Recommendations\n",
    "This notebook demonstrates how to use heterogeneous graphs in recommendation systems using TorchRec and PyTorch Geometric. Heterogeneous graphs can represent complex relationships between different types of entities, leading to more expressive models."
   ]
  },
  {
   "cell_type": "markdown",
   "metadata": {},
   "source": [
    "# Imports and Setup"
   ]
  },
  {
   "cell_type": "code",
   "execution_count": null,
   "metadata": {},
   "outputs": [],
   "source": [
    "import torch\n",
    "import torch.nn as nn\n",
    "import torch.nn.functional as F\n",
    "from torch_geometric.loader import DataLoader\n",
    "from torch_geometric.nn import HeteroConv, SAGEConv, Linear\n",
    "import sys\n",
    "sys.path.append('..')  # Add the parent directory to the Python path\n",
    "from src.data import HeteroGraphRecDataset, load_and_preprocess_hetero_data\n",
    "from src.models import create_ebc_config\n",
    "from src.utils import evaluate_recommendations, plot_training_curve\n",
    "from torchrec.modules.embedding_modules import EmbeddingBagCollection"
   ]
  },
  {
   "cell_type": "markdown",
   "metadata": {},
   "source": [
    "## Define Heterogeneous GNN Recommender Model"
   ]
  },
  {
   "cell_type": "code",
   "execution_count": null,
   "metadata": {},
   "outputs": [],
   "source": [
    "class HeteroGNNRecommender(nn.Module):\n",
    "    def __init__(self, metadata, embedding_dim, hidden_dim):\n",
    "        super().__init__()\n",
    "        \n",
    "        # Create embeddings for each node type\n",
    "        self.embedding = nn.ModuleDict()\n",
    "        for node_type in metadata[0]:\n",
    "            ebc_config = create_ebc_config(metadata[1][node_type], embedding_dim)\n",
    "            self.embedding[node_type] = EmbeddingBagCollection(**ebc_config)\n",
    "        \n",
    "        # Heterogeneous GNN layers\n",
    "        self.convs = nn.ModuleList()\n",
    "        for _ in range(2):  # 2-layer GNN\n",
    "            conv = HeteroConv({\n",
    "                edge_type: SAGEConv((-1, -1), hidden_dim)\n",
    "                for edge_type in metadata[1]\n",
    "            })\n",
    "            self.convs.append(conv)\n",
    "\n",
    "        # Final prediction layer\n",
    "        self.predictor = nn.Linear(hidden_dim * 2, 1)\n",
    "\n",
    "    def forward(self, x_dict, edge_index_dict):\n",
    "        # Get initial embeddings for each node type\n",
    "        for node_type in x_dict:\n",
    "            x_dict[node_type] = self.embedding[node_type](x_dict[node_type])['ids'].values()\n",
    "        \n",
    "        # Apply GNN layers\n",
    "        for conv in self.convs:\n",
    "            x_dict = conv(x_dict, edge_index_dict)\n",
    "            x_dict = {key: F.relu(x) for key, x in x_dict.items()}\n",
    "        \n",
    "        # Predict ratings\n",
    "        user_emb = x_dict['user']\n",
    "        item_emb = x_dict['item']\n",
    "        \n",
    "        # Assuming the first dimension of user_emb and item_emb are aligned\n",
    "        combined = torch.cat([user_emb, item_emb], dim=1)\n",
    "        return self.predictor(combined)"
   ]
  },
  {
   "cell_type": "markdown",
   "metadata": {},
   "source": [
    "## Load and Preprocess Data"
   ]
  },
  {
   "cell_type": "code",
   "execution_count": null,
   "metadata": {},
   "outputs": [],
   "source": [
    "# Load and preprocess heterogeneous graph data\n",
    "data, num_nodes_dict = load_and_preprocess_hetero_data('../path_to_your_hetero_data.csv')\n",
    "\n",
    "# Create datasets and data loaders\n",
    "train_dataset = HeteroGraphRecDataset(data['train'], num_nodes_dict)\n",
    "test_dataset = HeteroGraphRecDataset(data['test'], num_nodes_dict)\n",
    "train_loader = DataLoader(train_dataset, batch_size=64, shuffle=True)\n",
    "test_loader = DataLoader(test_dataset, batch_size=64, shuffle=False)"
   ]
  },
  {
   "cell_type": "markdown",
   "metadata": {},
   "source": [
    "## Initialize Model, Optimizer, and Loss Function"
   ]
  },
  {
   "cell_type": "code",
   "execution_count": null,
   "metadata": {},
   "outputs": [],
   "source": [
    "# Initialize model, optimizer, and loss function\n",
    "model = HeteroGNNRecommender(data['train'].metadata(), embedding_dim=64, hidden_dim=32)\n",
    "optimizer = torch.optim.Adam(model.parameters(), lr=0.01)\n",
    "criterion = nn.MSELoss()\n",
    "\n",
    "device = torch.device('cuda' if torch.cuda.is_available() else 'cpu')\n",
    "model = model.to(device)\n",
    "data['train'] = data['train'].to(device)\n",
    "data['test'] = data['test'].to(device)"
   ]
  },
  {
   "cell_type": "markdown",
   "metadata": {},
   "source": [
    "## Training Loop"
   ]
  },
  {
   "cell_type": "code",
   "execution_count": null,
   "metadata": {},
   "outputs": [],
   "source": [
    "num_epochs = 50\n",
    "train_losses, val_losses = [], []\n",
    "\n",
    "for epoch in range(num_epochs):\n",
    "    model.train()\n",
    "    total_loss = 0\n",
    "    for batch in train_loader:\n",
    "        batch = batch.to(device)\n",
    "        optimizer.zero_grad()\n",
    "        out = model(batch.x_dict, batch.edge_index_dict)\n",
    "        loss = criterion(out.squeeze(), batch.y)\n",
    "        loss.backward()\n",
    "        optimizer.step()\n",
    "        total_loss += loss.item()\n",
    "    \n",
    "    train_losses.append(total_loss / len(train_loader))\n",
    "    \n",
    "    # Validation\n",
    "    model.eval()\n",
    "    val_loss = 0\n",
    "    with torch.no_grad():\n",
    "        for batch in test_loader:\n",
    "            batch = batch.to(device)\n",
    "            out = model(batch.x_dict, batch.edge_index_dict)\n",
    "            val_loss += criterion(out.squeeze(), batch.y).item()\n",
    "    val_losses.append(val_loss / len(test_loader))\n",
    "    \n",
    "    print(f'Epoch {epoch+1}/{num_epochs}, Train Loss: {train_losses[-1]:.4f}, Val Loss: {val_losses[-1]:.4f}')"
   ]
  },
  {
   "cell_type": "markdown",
   "metadata": {},
   "source": [
    "## Evaluate the Model"
   ]
  },
  {
   "cell_type": "code",
   "execution_count": null,
   "metadata": {},
   "outputs": [],
   "source": [
    "# Evaluate the model\n",
    "test_metrics = evaluate_recommendations(model, test_loader, device)\n",
    "print(\"Test Metrics:\", test_metrics)\n",
    "\n",
    "# Plot training curve\n",
    "plot_training_curve(train_losses, val_losses)"
   ]
  }
 ],
 "metadata": {
  "language_info": {
   "name": "python"
  }
 },
 "nbformat": 4,
 "nbformat_minor": 2
}
