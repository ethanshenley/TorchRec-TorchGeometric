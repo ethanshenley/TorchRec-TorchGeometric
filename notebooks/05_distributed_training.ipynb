{
 "cells": [
  {
   "cell_type": "markdown",
   "metadata": {},
   "source": [
    "# Distributed Training for Large-Scale Graph Recommendations\n",
    "This notebook demonstrates how to scale our graph-based recommendation system to large datasets using distributed training capabilities from TorchRec and PyTorch Geometric."
   ]
  },
  {
   "cell_type": "markdown",
   "metadata": {},
   "source": [
    "## Imports and Setup"
   ]
  },
  {
   "cell_type": "code",
   "execution_count": null,
   "metadata": {},
   "outputs": [],
   "source": [
    "import os\n",
    "import torch\n",
    "import torch.nn as nn\n",
    "import torch.nn.functional as F\n",
    "import torch.distributed as dist\n",
    "from torch.nn.parallel import DistributedDataParallel as DDP\n",
    "from torch.utils.data.distributed import DistributedSampler\n",
    "from torch_geometric.nn import SAGEConv\n",
    "from torch_geometric.loader import NeighborLoader\n",
    "from torchrec.distributed.model_parallel import DistributedModelParallel\n",
    "from torchrec.distributed.embedding_types import EmbeddingComputeKernel\n",
    "from torchrec.distributed.embeddingbag import EmbeddingBagCollectionSharder\n",
    "import sys\n",
    "sys.path.append('..')  # Add the parent directory to the Python path\n",
    "from src.data import LargeGraphRecDataset, load_and_preprocess_large_data\n",
    "from src.models import create_large_ebc_config\n",
    "from src.utils import distributed_evaluate_recommendations, plot_training_curve"
   ]
  },
  {
   "cell_type": "markdown",
   "metadata": {},
   "source": [
    "## Define Large-Scale GNN Recommender Model"
   ]
  },
  {
   "cell_type": "code",
   "execution_count": null,
   "metadata": {},
   "outputs": [],
   "source": [
    "class LargeGNNRecommender(nn.Module):\n",
    "    def __init__(self, num_nodes, embedding_dim, hidden_dim):\n",
    "        super().__init__()\n",
    "        self.embedding = create_large_ebc_config(num_nodes, embedding_dim)\n",
    "        self.conv1 = SAGEConv(embedding_dim, hidden_dim)\n",
    "        self.conv2 = SAGEConv(hidden_dim, hidden_dim)\n",
    "        self.predictor = nn.Linear(hidden_dim * 2, 1)\n",
    "\n",
    "    def forward(self, x, edge_index):\n",
    "        x = self.embedding(x)['ids'].values()\n",
    "        x = F.relu(self.conv1(x, edge_index))\n",
    "        x = F.relu(self.conv2(x, edge_index))\n",
    "        return x"
   ]
  },
  {
   "cell_type": "markdown",
   "metadata": {},
   "source": [
    "## Distributed Training Function"
   ]
  },
  {
   "cell_type": "code",
   "execution_count": null,
   "metadata": {},
   "outputs": [],
   "source": [
    "def train(rank, world_size, data):\n",
    "    os.environ['MASTER_ADDR'] = 'localhost'\n",
    "    os.environ['MASTER_PORT'] = '12355'\n",
    "    dist.init_process_group(\"nccl\", rank=rank, world_size=world_size)\n",
    "    \n",
    "    torch.cuda.set_device(rank)\n",
    "    device = torch.device(f\"cuda:{rank}\")\n",
    "\n",
    "    model = LargeGNNRecommender(data.num_nodes, embedding_dim=64, hidden_dim=32).to(device)\n",
    "    model = DistributedModelParallel(\n",
    "        module=model,\n",
    "        device=device,\n",
    "        sharders=[EmbeddingBagCollectionSharder(\n",
    "            kernel=EmbeddingComputeKernel.DENSE\n",
    "        )]\n",
    "    )\n",
    "\n",
    "    optimizer = torch.optim.Adam(model.parameters(), lr=0.01)\n",
    "    criterion = nn.MSELoss()\n",
    "\n",
    "    train_loader = NeighborLoader(\n",
    "        data,\n",
    "        num_neighbors=[10, 10],\n",
    "        batch_size=1024,\n",
    "        input_nodes=data.train_mask,\n",
    "        sampler=DistributedSampler(data.train_mask, num_replicas=world_size, rank=rank)\n",
    "    )\n",
    "\n",
    "    num_epochs = 50\n",
    "    train_losses = []\n",
    "\n",
    "    for epoch in range(num_epochs):\n",
    "        model.train()\n",
    "        total_loss = 0\n",
    "        for batch in train_loader:\n",
    "            batch = batch.to(device)\n",
    "            optimizer.zero_grad()\n",
    "            out = model(batch.x, batch.edge_index)\n",
    "            user_emb = out[batch.user_index]\n",
    "            item_emb = out[batch.item_index]\n",
    "            pred = model.predictor(torch.cat([user_emb, item_emb], dim=1))\n",
    "            loss = criterion(pred.squeeze(), batch.y)\n",
    "            loss.backward()\n",
    "            optimizer.step()\n",
    "            total_loss += loss.item()\n",
    "        \n",
    "        train_losses.append(total_loss / len(train_loader))\n",
    "        \n",
    "        if rank == 0:\n",
    "            print(f'Epoch {epoch+1}/{num_epochs}, Train Loss: {train_losses[-1]:.4f}')\n",
    "\n",
    "    if rank == 0:\n",
    "        test_metrics = distributed_evaluate_recommendations(model, data, device)\n",
    "        print(\"Test Metrics:\", test_metrics)\n",
    "        plot_training_curve(train_losses)\n",
    "\n",
    "    dist.destroy_process_group()"
   ]
  },
  {
   "cell_type": "markdown",
   "metadata": {},
   "source": [
    "## Load Data and Start Distributed Training"
   ]
  },
  {
   "cell_type": "code",
   "execution_count": null,
   "metadata": {},
   "outputs": [],
   "source": [
    "if __name__ == \"__main__\":\n",
    "    world_size = torch.cuda.device_count()\n",
    "    data = load_and_preprocess_large_data('../path_to_your_large_data.csv')\n",
    "    torch.multiprocessing.spawn(train, args=(world_size, data), nprocs=world_size, join=True)"
   ]
  }
 ],
 "metadata": {
  "language_info": {
   "name": "python"
  }
 },
 "nbformat": 4,
 "nbformat_minor": 2
}
