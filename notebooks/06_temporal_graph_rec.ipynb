{
 "cells": [
  {
   "cell_type": "markdown",
   "metadata": {},
   "source": [
    "# Temporal Graph Recommendations\n",
    "This notebook demonstrates how to incorporate temporal information into our graph-based recommendation system using TorchRec and PyTorch Geometric. This approach allows us to capture dynamic user-item interactions over time."
   ]
  },
  {
   "cell_type": "markdown",
   "metadata": {},
   "source": [
    "## Imports and Setup"
   ]
  },
  {
   "cell_type": "code",
   "execution_count": null,
   "metadata": {},
   "outputs": [],
   "source": [
    "import torch\n",
    "import torch.nn as nn\n",
    "import torch.nn.functional as F\n",
    "from torch_geometric.nn import GATConv\n",
    "from torch_geometric.loader import TemporalDataLoader\n",
    "from torchrec.modules.embedding_modules import EmbeddingBagCollection\n",
    "import sys\n",
    "sys.path.append('..')  # Add the parent directory to the Python path\n",
    "from src.data import TemporalGraphRecDataset, load_and_preprocess_temporal_data\n",
    "from src.models import create_ebc_config\n",
    "from src.utils import evaluate_temporal_recommendations, plot_training_curve"
   ]
  },
  {
   "cell_type": "markdown",
   "metadata": {},
   "source": [
    "## Define Temporal GNN Recommender Model"
   ]
  },
  {
   "cell_type": "code",
   "execution_count": null,
   "metadata": {},
   "outputs": [],
   "source": [
    "class TemporalGNNRecommender(nn.Module):\n",
    "    def __init__(self, num_nodes, embedding_dim, hidden_dim, num_heads=4):\n",
    "        super().__init__()\n",
    "        self.embedding = EmbeddingBagCollection(\n",
    "            tables=[create_ebc_config(num_nodes, embedding_dim)]\n",
    "        )\n",
    "        self.conv1 = GATConv(embedding_dim, hidden_dim, heads=num_heads)\n",
    "        self.conv2 = GATConv(hidden_dim * num_heads, hidden_dim, heads=1)\n",
    "        self.lstm = nn.LSTM(hidden_dim, hidden_dim, batch_first=True)\n",
    "        self.predictor = nn.Linear(hidden_dim * 2, 1)\n",
    "\n",
    "    def forward(self, x, edge_index, edge_attr):\n",
    "        # Get node embeddings\n",
    "        x = self.embedding(x)['ids'].values()\n",
    "        \n",
    "        # Apply GAT layers\n",
    "        x = F.elu(self.conv1(x, edge_index, edge_attr))\n",
    "        x = F.elu(self.conv2(x, edge_index, edge_attr))\n",
    "        \n",
    "        return x\n",
    "\n",
    "    def predict(self, x, user_index, item_index):\n",
    "        # Apply LSTM to user and item sequences\n",
    "        user_seq = x[user_index].unsqueeze(0)\n",
    "        item_seq = x[item_index].unsqueeze(0)\n",
    "        _, (user_hidden, _) = self.lstm(user_seq)\n",
    "        _, (item_hidden, _) = self.lstm(item_seq)\n",
    "        \n",
    "        # Concatenate user and item representations\n",
    "        combined = torch.cat([user_hidden.squeeze(0), item_hidden.squeeze(0)], dim=1)\n",
    "        \n",
    "        # Make prediction\n",
    "        return self.predictor(combined)"
   ]
  },
  {
   "cell_type": "markdown",
   "metadata": {},
   "source": [
    "## Load and Preprocess Data"
   ]
  },
  {
   "cell_type": "code",
   "execution_count": null,
   "metadata": {},
   "outputs": [],
   "source": [
    "# Load and preprocess temporal graph data\n",
    "data, num_nodes = load_and_preprocess_temporal_data('../path_to_your_temporal_data.csv')\n",
    "\n",
    "# Create dataset and data loader\n",
    "dataset = TemporalGraphRecDataset(data)\n",
    "train_loader = TemporalDataLoader(dataset, batch_size=64, shuffle=True)"
   ]
  },
  {
   "cell_type": "markdown",
   "metadata": {},
   "source": [
    "## Initialize Model, Optimizer, and Loss Function"
   ]
  },
  {
   "cell_type": "code",
   "execution_count": null,
   "metadata": {},
   "outputs": [],
   "source": [
    "# Initialize model, optimizer, and loss function\n",
    "model = TemporalGNNRecommender(num_nodes, embedding_dim=64, hidden_dim=32)\n",
    "optimizer = torch.optim.Adam(model.parameters(), lr=0.01)\n",
    "criterion = nn.MSELoss()\n",
    "\n",
    "device = torch.device('cuda' if torch.cuda.is_available() else 'cpu')\n",
    "model = model.to(device)"
   ]
  },
  {
   "cell_type": "markdown",
   "metadata": {},
   "source": [
    "## Training Loop"
   ]
  },
  {
   "cell_type": "code",
   "execution_count": null,
   "metadata": {},
   "outputs": [],
   "source": [
    "num_epochs = 50\n",
    "train_losses, val_losses = [], []\n",
    "\n",
    "for epoch in range(num_epochs):\n",
    "    model.train()\n",
    "    total_loss = 0\n",
    "    for batch in train_loader:\n",
    "        batch = batch.to(device)\n",
    "        optimizer.zero_grad()\n",
    "        out = model(batch.x, batch.edge_index, batch.edge_attr)\n",
    "        pred = model.predict(out, batch.user_index, batch.item_index)\n",
    "        loss = criterion(pred.squeeze(), batch.y)\n",
    "        loss.backward()\n",
    "        optimizer.step()\n",
    "        total_loss += loss.item()\n",
    "    \n",
    "    train_losses.append(total_loss / len(train_loader))\n",
    "    \n",
    "    # Validation (assuming we have a validation set)\n",
    "    val_loss = evaluate_temporal_recommendations(model, dataset.val_mask, device)\n",
    "    val_losses.append(val_loss)\n",
    "    \n",
    "    print(f'Epoch {epoch+1}/{num_epochs}, Train Loss: {train_losses[-1]:.4f}, Val Loss: {val_losses[-1]:.4f}')"
   ]
  },
  {
   "cell_type": "markdown",
   "metadata": {},
   "source": [
    "## Evaluate the Model"
   ]
  },
  {
   "cell_type": "code",
   "execution_count": null,
   "metadata": {},
   "outputs": [],
   "source": [
    "# Evaluate the model\n",
    "test_metrics = evaluate_temporal_recommendations(model, dataset.test_mask, device)\n",
    "print(\"Test Metrics:\", test_metrics)\n",
    "\n",
    "# Plot training curve\n",
    "plot_training_curve(train_losses, val_losses)"
   ]
  }
 ],
 "metadata": {
  "language_info": {
   "name": "python"
  }
 },
 "nbformat": 4,
 "nbformat_minor": 2
}
