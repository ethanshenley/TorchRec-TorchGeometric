{
 "cells": [
  {
   "cell_type": "markdown",
   "metadata": {},
   "source": [
    "# GNN-Enhanced Collaborative Filtering\n",
    "This notebook demonstrates how to enhance traditional collaborative filtering with Graph Neural Networks (GNNs) using TorchRec and PyTorch Geometric."
   ]
  },
  {
   "cell_type": "markdown",
   "metadata": {},
   "source": [
    "## Imports and Setup"
   ]
  },
  {
   "cell_type": "code",
   "execution_count": null,
   "metadata": {},
   "outputs": [],
   "source": [
    "import torch\n",
    "import torch.nn as nn\n",
    "import torch.nn.functional as F\n",
    "from torch_geometric.loader import DataLoader\n",
    "from torch_geometric.nn import GCNConv\n",
    "import sys\n",
    "sys.path.append('..')  # Add the parent directory to the Python path\n",
    "from src.data import GraphRecDataset, load_and_preprocess_data, create_adjacency_matrix\n",
    "from src.models import create_ebc_config\n",
    "from src.utils import evaluate_recommendations, plot_training_curve\n",
    "from torchrec.modules.embedding_modules import EmbeddingBagCollection"
   ]
  },
  {
   "cell_type": "markdown",
   "metadata": {},
   "source": [
    "## Define GNN-Enhanced Collaborative Filtering Model"
   ]
  },
  {
   "cell_type": "code",
   "execution_count": null,
   "metadata": {},
   "outputs": [],
   "source": [
    "class GNNCollaborativeFiltering(nn.Module):\n",
    "    def __init__(self, num_users, num_items, embedding_dim, hidden_dim):\n",
    "        super().__init__()\n",
    "        self.num_users = num_users\n",
    "        self.num_items = num_items\n",
    "        \n",
    "        # User and Item embeddings\n",
    "        ebc_config = create_ebc_config(max(num_users, num_items), embedding_dim)\n",
    "        self.embedding = EmbeddingBagCollection(**ebc_config)\n",
    "        \n",
    "        # GNN layers\n",
    "        self.conv1 = GCNConv(embedding_dim, hidden_dim)\n",
    "        self.conv2 = GCNConv(hidden_dim, hidden_dim)\n",
    "        \n",
    "        # Final prediction layer\n",
    "        self.predictor = nn.Linear(hidden_dim * 2, 1)\n",
    "\n",
    "    def forward(self, features, edge_index):\n",
    "        # Get embeddings\n",
    "        embeddings = self.embedding(features)\n",
    "        user_emb = embeddings['user'].values()\n",
    "        item_emb = embeddings['item'].values()\n",
    "        \n",
    "        # Combine user and item embeddings\n",
    "        x = torch.cat([user_emb, item_emb], dim=0)\n",
    "        \n",
    "        # Apply GNN layers\n",
    "        x = F.relu(self.conv1(x, edge_index))\n",
    "        x = F.relu(self.conv2(x, edge_index))\n",
    "        \n",
    "        # Split back into user and item embeddings\n",
    "        user_emb, item_emb = x[:self.num_users], x[self.num_users:]\n",
    "        \n",
    "        # Get relevant user and item embeddings\n",
    "        user_indices = features['user'].values().squeeze()\n",
    "        item_indices = features['item'].values().squeeze()\n",
    "        user_emb = user_emb[user_indices]\n",
    "        item_emb = item_emb[item_indices]\n",
    "        \n",
    "        # Predict ratings\n",
    "        combined = torch.cat([user_emb, item_emb], dim=1)\n",
    "        return self.predictor(combined)"
   ]
  },
  {
   "cell_type": "markdown",
   "metadata": {},
   "source": [
    "## Load and Preprocess Data"
   ]
  },
  {
   "cell_type": "code",
   "execution_count": null,
   "metadata": {},
   "outputs": [],
   "source": [
    "# Load and preprocess data\n",
    "train_interactions, test_interactions, num_users, num_items = load_and_preprocess_data('../path_to_your_data.csv')\n",
    "\n",
    "# Create adjacency matrix\n",
    "edge_index = create_adjacency_matrix(train_interactions, num_users, num_items)\n",
    "\n",
    "# Create datasets and data loaders\n",
    "train_dataset = GraphRecDataset(train_interactions, num_users, num_items)\n",
    "test_dataset = GraphRecDataset(test_interactions, num_users, num_items)\n",
    "train_loader = DataLoader(train_dataset, batch_size=64, shuffle=True)\n",
    "test_loader = DataLoader(test_dataset, batch_size=64, shuffle=False)"
   ]
  },
  {
   "cell_type": "markdown",
   "metadata": {},
   "source": [
    "## Initialize Model, Optimizer, and Loss Function"
   ]
  },
  {
   "cell_type": "code",
   "execution_count": null,
   "metadata": {},
   "outputs": [],
   "source": [
    "# Initialize model, optimizer, and loss function\n",
    "model = GNNCollaborativeFiltering(num_users, num_items, embedding_dim=64, hidden_dim=32)\n",
    "optimizer = torch.optim.Adam(model.parameters(), lr=0.01)\n",
    "criterion = nn.MSELoss()\n",
    "\n",
    "device = torch.device('cuda' if torch.cuda.is_available() else 'cpu')\n",
    "model = model.to(device)\n",
    "edge_index = edge_index.to(device)"
   ]
  },
  {
   "cell_type": "markdown",
   "metadata": {},
   "source": [
    "## Training Loop"
   ]
  },
  {
   "cell_type": "code",
   "execution_count": null,
   "metadata": {},
   "outputs": [],
   "source": [
    "num_epochs = 50\n",
    "train_losses, val_losses = [], []\n",
    "\n",
    "for epoch in range(num_epochs):\n",
    "    model.train()\n",
    "    total_loss = 0\n",
    "    for batch in train_loader:\n",
    "        batch = batch.to(device)\n",
    "        optimizer.zero_grad()\n",
    "        out = model(batch.features, edge_index)\n",
    "        loss = criterion(out.squeeze(), batch.y)\n",
    "        loss.backward()\n",
    "        optimizer.step()\n",
    "        total_loss += loss.item()\n",
    "    \n",
    "    train_losses.append(total_loss / len(train_loader))\n",
    "    \n",
    "    # Validation\n",
    "    model.eval()\n",
    "    val_loss = 0\n",
    "    with torch.no_grad():\n",
    "        for batch in test_loader:\n",
    "            batch = batch.to(device)\n",
    "            out = model(batch.features, edge_index)\n",
    "            val_loss += criterion(out.squeeze(), batch.y).item()\n",
    "    val_losses.append(val_loss / len(test_loader))\n",
    "    \n",
    "    print(f'Epoch {epoch+1}/{num_epochs}, Train Loss: {train_losses[-1]:.4f}, Val Loss: {val_losses[-1]:.4f}')"
   ]
  },
  {
   "cell_type": "markdown",
   "metadata": {},
   "source": [
    "## Evaluate the Model"
   ]
  },
  {
   "cell_type": "code",
   "execution_count": null,
   "metadata": {},
   "outputs": [],
   "source": [
    "# Evaluate the model\n",
    "test_metrics = evaluate_recommendations(model, test_loader, device)\n",
    "print(\"Test Metrics:\", test_metrics)\n",
    "\n",
    "# Plot training curve\n",
    "plot_training_curve(train_losses, val_losses)"
   ]
  }
 ],
 "metadata": {
  "language_info": {
   "name": "python"
  }
 },
 "nbformat": 4,
 "nbformat_minor": 2
}
